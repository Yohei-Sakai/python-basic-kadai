{
  "nbformat": 4,
  "nbformat_minor": 0,
  "metadata": {
    "colab": {
      "provenance": []
    },
    "kernelspec": {
      "name": "python3",
      "display_name": "Python 3"
    },
    "language_info": {
      "name": "python"
    }
  },
  "cells": [
    {
      "cell_type": "code",
      "source": [
        "import random\n",
        "var = random.randint(1, 30)\n",
        "\n",
        "if (var % 3) == 0 and (var % 5) == 0:\n",
        "  print(\"FizzBuzz\")\n",
        "elif (var % 3) == 0:\n",
        "  print(\"Fizz\")\n",
        "elif (var % 5) == 0:\n",
        "  print(\"Buzz\")\n",
        "else:\n",
        "  print(var)\n",
        "\n"
      ],
      "metadata": {
        "colab": {
          "base_uri": "https://localhost:8080/"
        },
        "id": "gdvR5JnE8A3i",
        "outputId": "34ef77ea-fdce-44ae-990a-a9c1522fb38d"
      },
      "execution_count": 34,
      "outputs": [
        {
          "output_type": "stream",
          "name": "stdout",
          "text": [
            "25\n",
            "Buzz\n"
          ]
        }
      ]
    }
  ]
}