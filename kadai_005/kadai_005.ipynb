{
  "nbformat": 4,
  "nbformat_minor": 0,
  "metadata": {
    "colab": {
      "provenance": []
    },
    "kernelspec": {
      "name": "python3",
      "display_name": "Python 3"
    },
    "language_info": {
      "name": "python"
    }
  },
  "cells": [
    {
      "cell_type": "code",
      "source": [
        "top_base = 10\n",
        "bottom_base = 20\n",
        "height = 5\n",
        "trapezoid_area = (top_base+bottom_base)*height/2\n",
        "print(str(trapezoid_area)+\"cm2\")"
      ],
      "metadata": {
        "colab": {
          "base_uri": "https://localhost:8080/"
        },
        "id": "gdvR5JnE8A3i",
        "outputId": "d08fa7ff-e9cf-4196-ee9c-e4ed94fd6a0c"
      },
      "execution_count": 11,
      "outputs": [
        {
          "output_type": "stream",
          "name": "stdout",
          "text": [
            "75.0cm2\n"
          ]
        }
      ]
    }
  ]
}