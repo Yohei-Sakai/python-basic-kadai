{
  "nbformat": 4,
  "nbformat_minor": 0,
  "metadata": {
    "colab": {
      "provenance": []
    },
    "kernelspec": {
      "name": "python3",
      "display_name": "Python 3"
    },
    "language_info": {
      "name": "python"
    }
  },
  "cells": [
    {
      "cell_type": "code",
      "execution_count": 22,
      "metadata": {
        "colab": {
          "base_uri": "https://localhost:8080/"
        },
        "id": "5SvLIQibz48a",
        "outputId": "1e97228a-00f4-45cd-cf53-28682fb91e6b"
      },
      "outputs": [
        {
          "output_type": "stream",
          "name": "stdout",
          "text": [
            "侍太郎は大人です\n",
            "侍一郎は大人です\n",
            "侍二郎は大人です\n",
            "侍三郎は大人ではありません\n",
            "侍四郎は大人ではありません\n"
          ]
        }
      ],
      "source": [
        "class Human:\n",
        "  def __init__(self, name, age):\n",
        "    self.name = name\n",
        "    self.age = age\n",
        "\n",
        "  def check_adult(self):\n",
        "    if self.age >= 20:\n",
        "      print(f\"{self.name}は大人です\")\n",
        "    else:\n",
        "      print(f\"{self.name}は大人ではありません\")\n",
        "\n",
        "humans = []\n",
        "\n",
        "samurai_taro = Human(\"侍太郎\", 36)\n",
        "samurai_ichiro = Human(\"侍一郎\", 30)\n",
        "samurai_jiro = Human(\"侍二郎\" ,26)\n",
        "samurai_saburo = Human(\"侍三郎\" ,19)\n",
        "samurai_siro = Human(\"侍四郎\" ,13)\n",
        "\n",
        "humans.append(samurai_taro)\n",
        "humans.append(samurai_ichiro)\n",
        "humans.append(samurai_jiro)\n",
        "humans.append(samurai_saburo)\n",
        "humans.append(samurai_siro)\n",
        "\n",
        "for i in range(0,5):\n",
        "  humans[i].check_adult()"
      ]
    }
  ]
}