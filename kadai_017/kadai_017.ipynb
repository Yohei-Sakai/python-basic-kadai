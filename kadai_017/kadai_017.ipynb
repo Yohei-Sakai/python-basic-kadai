{
  "nbformat": 4,
  "nbformat_minor": 0,
  "metadata": {
    "colab": {
      "provenance": []
    },
    "kernelspec": {
      "name": "python3",
      "display_name": "Python 3"
    },
    "language_info": {
      "name": "python"
    }
  },
  "cells": [
    {
      "cell_type": "code",
      "execution_count": 17,
      "metadata": {
        "colab": {
          "base_uri": "https://localhost:8080/"
        },
        "id": "5SvLIQibz48a",
        "outputId": "0d39dc15-b0d4-4373-f5ea-ce842eaa3689"
      },
      "outputs": [
        {
          "output_type": "stream",
          "name": "stdout",
          "text": [
            "侍太郎は大人です\n",
            "侍一郎は大人です\n",
            "侍二郎は大人です\n",
            "侍三郎は大人ではありません\n",
            "侍四郎は大人ではありません\n"
          ]
        }
      ],
      "source": [
        "class Human:\n",
        "  def __init__(self, name, age):\n",
        "    self.name = name\n",
        "    self.age = age\n",
        "\n",
        "  def check_adult(self):\n",
        "    if self.age >= 20:\n",
        "      print(f\"{self.name}は大人です\")\n",
        "    else:\n",
        "      print(f\"{self.name}は大人ではありません\")\n",
        "\n",
        "samurai_taro = Human(\"侍太郎\", 36)\n",
        "samurai_ichiro = Human(\"侍一郎\", 30)\n",
        "samurai_jiro = Human(\"侍二郎\" ,26)\n",
        "samurai_saburo = Human(\"侍三郎\" ,19)\n",
        "samurai_siro = Human(\"侍四郎\" ,13)\n",
        "\n",
        "human_names = [samurai_taro.name, samurai_ichiro.name, samurai_jiro.name, samurai_saburo.name, samurai_siro.name]\n",
        "human_ages = [samurai_taro.age, samurai_ichiro.age, samurai_jiro.age, samurai_saburo.age, samurai_siro.age]\n",
        "\n",
        "for i in range(0,5):\n",
        "  human = Human(human_names[i], human_ages[i])\n",
        "  human.check_adult()"
      ]
    }
  ]
}